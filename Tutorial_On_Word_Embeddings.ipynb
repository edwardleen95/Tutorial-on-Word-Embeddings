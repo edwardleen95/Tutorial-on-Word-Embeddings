{
  "nbformat": 4,
  "nbformat_minor": 0,
  "metadata": {
    "colab": {
      "provenance": []
    },
    "kernelspec": {
      "name": "python3",
      "display_name": "Python 3"
    },
    "language_info": {
      "name": "python"
    }
  },
  "cells": [
    {
      "cell_type": "markdown",
      "source": [
        "# 1. Some code to try out in case things don't work as intended"
      ],
      "metadata": {
        "id": "N6lr34-Io6x8"
      }
    },
    {
      "cell_type": "code",
      "source": [
        "# 1. First uninstall problematic numpy version\n",
        "!pip uninstall -y numpy\n",
        "\n",
        "# 2. Install stable numpy version\n",
        "!pip install numpy==1.23.5\n",
        "\n",
        "# 3. Install gensim (will automatically get compatible numpy)\n",
        "!pip install gensim fasttext\n",
        "\n",
        "# 4. Restart your runtime (CRITICAL)\n",
        "from IPython.display import clear_output\n",
        "clear_output()\n",
        "print(\"Please go to Runtime > Restart runtime, then re-run your cells!\")"
      ],
      "metadata": {
        "colab": {
          "base_uri": "https://localhost:8080/",
          "height": 610
        },
        "id": "n2sY2tEp3nB_",
        "outputId": "027d52a1-d0b9-4ed0-e974-82b1554a5007"
      },
      "execution_count": 6,
      "outputs": [
        {
          "output_type": "stream",
          "name": "stdout",
          "text": [
            "Please go to Runtime > Restart runtime, then re-run your cells!\n"
          ]
        }
      ]
    },
    {
      "cell_type": "code",
      "source": [
        "!pip install gensim --upgrade"
      ],
      "metadata": {
        "colab": {
          "base_uri": "https://localhost:8080/"
        },
        "id": "W9lBMIQkv4xc",
        "outputId": "b3da973b-3782-4087-c0cd-28f89d4b01aa"
      },
      "execution_count": 3,
      "outputs": [
        {
          "output_type": "stream",
          "name": "stdout",
          "text": [
            "Collecting gensim\n",
            "  Using cached gensim-4.3.3-cp311-cp311-manylinux_2_17_x86_64.manylinux2014_x86_64.whl.metadata (8.1 kB)\n",
            "Requirement already satisfied: numpy<2.0,>=1.18.5 in /usr/local/lib/python3.11/dist-packages (from gensim) (1.23.5)\n",
            "Collecting scipy<1.14.0,>=1.7.0 (from gensim)\n",
            "  Downloading scipy-1.13.1-cp311-cp311-manylinux_2_17_x86_64.manylinux2014_x86_64.whl.metadata (60 kB)\n",
            "\u001b[2K     \u001b[90m━━━━━━━━━━━━━━━━━━━━━━━━━━━━━━━━━━━━━━━━\u001b[0m \u001b[32m60.6/60.6 kB\u001b[0m \u001b[31m2.1 MB/s\u001b[0m eta \u001b[36m0:00:00\u001b[0m\n",
            "\u001b[?25hRequirement already satisfied: smart-open>=1.8.1 in /usr/local/lib/python3.11/dist-packages (from gensim) (7.1.0)\n",
            "Requirement already satisfied: wrapt in /usr/local/lib/python3.11/dist-packages (from smart-open>=1.8.1->gensim) (1.17.2)\n",
            "Downloading gensim-4.3.3-cp311-cp311-manylinux_2_17_x86_64.manylinux2014_x86_64.whl (26.7 MB)\n",
            "\u001b[2K   \u001b[90m━━━━━━━━━━━━━━━━━━━━━━━━━━━━━━━━━━━━━━━━\u001b[0m \u001b[32m26.7/26.7 MB\u001b[0m \u001b[31m66.1 MB/s\u001b[0m eta \u001b[36m0:00:00\u001b[0m\n",
            "\u001b[?25hDownloading scipy-1.13.1-cp311-cp311-manylinux_2_17_x86_64.manylinux2014_x86_64.whl (38.6 MB)\n",
            "\u001b[2K   \u001b[90m━━━━━━━━━━━━━━━━━━━━━━━━━━━━━━━━━━━━━━━━\u001b[0m \u001b[32m38.6/38.6 MB\u001b[0m \u001b[31m14.9 MB/s\u001b[0m eta \u001b[36m0:00:00\u001b[0m\n",
            "\u001b[?25hInstalling collected packages: scipy, gensim\n",
            "  Attempting uninstall: scipy\n",
            "    Found existing installation: scipy 1.14.1\n",
            "    Uninstalling scipy-1.14.1:\n",
            "      Successfully uninstalled scipy-1.14.1\n",
            "\u001b[31mERROR: pip's dependency resolver does not currently take into account all the packages that are installed. This behaviour is the source of the following dependency conflicts.\n",
            "jaxlib 0.5.1 requires numpy>=1.25, but you have numpy 1.23.5 which is incompatible.\n",
            "chex 0.1.89 requires numpy>=1.24.1, but you have numpy 1.23.5 which is incompatible.\n",
            "jax 0.5.2 requires numpy>=1.25, but you have numpy 1.23.5 which is incompatible.\n",
            "imbalanced-learn 0.13.0 requires numpy<3,>=1.24.3, but you have numpy 1.23.5 which is incompatible.\n",
            "albumentations 2.0.5 requires numpy>=1.24.4, but you have numpy 1.23.5 which is incompatible.\n",
            "scikit-image 0.25.2 requires numpy>=1.24, but you have numpy 1.23.5 which is incompatible.\n",
            "pymc 5.21.1 requires numpy>=1.25.0, but you have numpy 1.23.5 which is incompatible.\u001b[0m\u001b[31m\n",
            "\u001b[0mSuccessfully installed gensim-4.3.3 scipy-1.13.1\n"
          ]
        }
      ]
    },
    {
      "cell_type": "markdown",
      "source": [
        "# 2. Download Pretrained GloVe Embeddings (No Need for glove-python)\n",
        "Since glove-python is problematic, we’ll use Gensim to load pretrained GloVe vectors (e.g., from Stanford’s 6B dataset):"
      ],
      "metadata": {
        "id": "aMZWCmRuqxbB"
      }
    },
    {
      "cell_type": "code",
      "source": [
        "import gensim.downloader as api\n",
        "\n",
        "# This will now work\n",
        "glove_model = api.load(\"glove-wiki-gigaword-100\")\n",
        "print(glove_model.most_similar(\"king\"))"
      ],
      "metadata": {
        "colab": {
          "base_uri": "https://localhost:8080/"
        },
        "id": "EZSNv_Za3m-x",
        "outputId": "1526823f-a03f-4f08-8670-20eeddc51a97"
      },
      "execution_count": 4,
      "outputs": [
        {
          "output_type": "stream",
          "name": "stdout",
          "text": [
            "[==================================================] 100.0% 128.1/128.1MB downloaded\n",
            "[('prince', 0.7682328820228577), ('queen', 0.7507690787315369), ('son', 0.7020888328552246), ('brother', 0.6985775232315063), ('monarch', 0.6977890729904175), ('throne', 0.6919989585876465), ('kingdom', 0.6811409592628479), ('father', 0.6802029013633728), ('emperor', 0.6712858080863953), ('ii', 0.6676074266433716)]\n"
          ]
        }
      ]
    },
    {
      "cell_type": "code",
      "source": [
        "import nltk\n",
        "nltk.download('punkt')  # Download the main punkt tokenizer\n",
        "nltk.download('punkt_tab')  # Download the additional tables"
      ],
      "metadata": {
        "colab": {
          "base_uri": "https://localhost:8080/"
        },
        "id": "Hh-WmKCj6Bxv",
        "outputId": "bd02fde1-5229-4dbc-b83a-7d67f1ff70fa"
      },
      "execution_count": 1,
      "outputs": [
        {
          "output_type": "stream",
          "name": "stderr",
          "text": [
            "[nltk_data] Downloading package punkt to /root/nltk_data...\n",
            "[nltk_data]   Package punkt is already up-to-date!\n",
            "[nltk_data] Downloading package punkt_tab to /root/nltk_data...\n",
            "[nltk_data]   Package punkt_tab is already up-to-date!\n"
          ]
        },
        {
          "output_type": "execute_result",
          "data": {
            "text/plain": [
              "True"
            ]
          },
          "metadata": {},
          "execution_count": 1
        }
      ]
    },
    {
      "cell_type": "markdown",
      "source": [
        "# 3. Implementation in Python\n",
        "We’ll use Gensim, a popular NLP library, to train Word2Vec.\n",
        "\n"
      ],
      "metadata": {
        "id": "aM8rwxNaqje0"
      }
    },
    {
      "cell_type": "code",
      "source": [
        "from gensim.models import Word2Vec\n",
        "from nltk.tokenize import word_tokenize\n",
        "\n",
        "\n",
        "# Sample sentences\n",
        "sentences = [\n",
        "    \"Word embeddings are awesome.\",\n",
        "    \"I love natural language processing.\",\n",
        "    \"Deep learning is changing the world.\"\n",
        "]\n",
        "\n",
        "# Tokenize sentences\n",
        "tokenized_sentences = [word_tokenize(sent.lower()) for sent in sentences]\n",
        "\n",
        "# Train Word2Vec (Skip-gram)\n",
        "model_w2v = Word2Vec(\n",
        "    sentences=tokenized_sentences,\n",
        "    vector_size=100,  # Embedding dimension\n",
        "    window=5,        # Context window size\n",
        "    min_count=1,     # Ignore rare words\n",
        "    sg=1             # 1 for Skip-gram, 0 for CBOW\n",
        ")\n",
        "\n",
        "# Get word vector\n",
        "print(model_w2v.wv[\"deep\"])"
      ],
      "metadata": {
        "colab": {
          "base_uri": "https://localhost:8080/"
        },
        "id": "wQ4wb2323m8I",
        "outputId": "1e9c0380-5d27-425e-efd4-3d2befa5c729"
      },
      "execution_count": 5,
      "outputs": [
        {
          "output_type": "stream",
          "name": "stdout",
          "text": [
            "[ 8.13227147e-03 -4.45733406e-03 -1.06835726e-03  1.00636482e-03\n",
            " -1.91113955e-04  1.14817743e-03  6.11386076e-03 -2.02715401e-05\n",
            " -3.24596534e-03 -1.51072862e-03  5.89729892e-03  1.51410222e-03\n",
            " -7.24261976e-04  9.33324732e-03 -4.92128357e-03 -8.38409644e-04\n",
            "  9.17541143e-03  6.74942741e-03  1.50285603e-03 -8.88256077e-03\n",
            "  1.14874600e-03 -2.28825561e-03  9.36823711e-03  1.20992784e-03\n",
            "  1.49006362e-03  2.40640994e-03 -1.83600665e-03 -4.99963388e-03\n",
            "  2.32429506e-04 -2.01418041e-03  6.60093315e-03  8.94012302e-03\n",
            " -6.74754381e-04  2.97701475e-03 -6.10765442e-03  1.69932481e-03\n",
            " -6.92623248e-03 -8.69402662e-03 -5.90020278e-03 -8.95647518e-03\n",
            "  7.27759488e-03 -5.77203138e-03  8.27635173e-03 -7.24354526e-03\n",
            "  3.42167495e-03  9.67499893e-03 -7.78544787e-03 -9.94505733e-03\n",
            " -4.32914635e-03 -2.68313056e-03 -2.71289347e-04 -8.83155130e-03\n",
            " -8.61755759e-03  2.80021061e-03 -8.20640661e-03 -9.06933658e-03\n",
            " -2.34046578e-03 -8.63180775e-03 -7.05664977e-03 -8.40115082e-03\n",
            " -3.01328895e-04 -4.56429832e-03  6.62717456e-03  1.52716041e-03\n",
            " -3.34147573e-03  6.10897178e-03 -6.01328490e-03 -4.65616956e-03\n",
            " -7.20750913e-03 -4.33658017e-03 -1.80932996e-03  6.48964290e-03\n",
            " -2.77039292e-03  4.91896737e-03  6.90444233e-03 -7.46370573e-03\n",
            "  4.56485013e-03  6.12697843e-03 -2.95447465e-03  6.62502181e-03\n",
            "  6.12587947e-03 -6.44348515e-03 -6.76455162e-03  2.53895880e-03\n",
            " -1.62381888e-03 -6.06512791e-03  9.49920900e-03 -5.13014663e-03\n",
            " -6.55409694e-03 -1.19885204e-04 -2.70142802e-03  4.44400299e-04\n",
            " -3.53745813e-03 -4.19330609e-04 -7.08615757e-04  8.22820642e-04\n",
            "  8.19481723e-03 -5.73670724e-03 -1.65952800e-03  5.57160750e-03]\n"
          ]
        }
      ]
    },
    {
      "cell_type": "markdown",
      "source": [
        "# 4. FastText (Subword Embeddings)\n",
        "Best for: Morphologically rich languages, rare/OOV words.\n",
        "\n",
        "Training FastText"
      ],
      "metadata": {
        "id": "oaRvpQQ-sAg2"
      }
    },
    {
      "cell_type": "code",
      "source": [
        "!pip install fasttext\n",
        "import fasttext\n",
        "import os\n",
        "\n",
        "# 1. Create proper training data\n",
        "sentences = [\n",
        "    \"Word embeddings are awesome.\",\n",
        "    \"I love natural language processing.\",\n",
        "    \"Deep learning is changing the world.\",\n",
        "    \"FastText handles subword information.\",\n",
        "    \"This is a sample text for training.\"\n",
        "]\n",
        "\n",
        "# 2. Write to file (one sentence per line)\n",
        "with open(\"train.txt\", \"w\") as f:\n",
        "    for sent in sentences:\n",
        "        f.write(sent + \"\\n\")\n",
        "\n",
        "# 3. Verify file\n",
        "print(\"File contents:\")\n",
        "!cat train.txt\n",
        "print(\"\\nFile size:\", os.path.getsize(\"train.txt\"), \"bytes\")\n",
        "\n",
        "# 4. Train model\n",
        "model_ft = fasttext.train_unsupervised(\n",
        "    \"train.txt\",\n",
        "    model='skipgram',\n",
        "    minCount=1,\n",
        "    epoch=50,\n",
        "    lr=0.05,\n",
        "    dim=100\n",
        ")\n",
        "\n",
        "# 5. Test the model (CORRECTED SIMILARITY CALCULATION)\n",
        "print(\"\\nWord vector for 'learning':\", model_ft.get_word_vector(\"learning\"))\n",
        "\n",
        "# Correct way to calculate similarity\n",
        "from numpy import dot\n",
        "from numpy.linalg import norm\n",
        "\n",
        "def cosine_similarity(vec1, vec2):\n",
        "    return dot(vec1, vec2)/(norm(vec1)*norm(vec2))\n",
        "\n",
        "vec_deep = model_ft.get_word_vector(\"deep\")\n",
        "vec_learning = model_ft.get_word_vector(\"learning\")\n",
        "similarity = cosine_similarity(vec_deep, vec_learning)\n",
        "\n",
        "print(\"\\nCosine similarity between 'deep' and 'learning':\", similarity)"
      ],
      "metadata": {
        "colab": {
          "base_uri": "https://localhost:8080/"
        },
        "id": "4n-ebFLL6Sy8",
        "outputId": "e6d68245-e24d-4384-dc52-d2abe893cf57"
      },
      "execution_count": 7,
      "outputs": [
        {
          "output_type": "stream",
          "name": "stdout",
          "text": [
            "Collecting fasttext\n",
            "  Using cached fasttext-0.9.3.tar.gz (73 kB)\n",
            "  Installing build dependencies ... \u001b[?25l\u001b[?25hdone\n",
            "  Getting requirements to build wheel ... \u001b[?25l\u001b[?25hdone\n",
            "  Preparing metadata (pyproject.toml) ... \u001b[?25l\u001b[?25hdone\n",
            "Collecting pybind11>=2.2 (from fasttext)\n",
            "  Using cached pybind11-2.13.6-py3-none-any.whl.metadata (9.5 kB)\n",
            "Requirement already satisfied: setuptools>=0.7.0 in /usr/local/lib/python3.11/dist-packages (from fasttext) (75.1.0)\n",
            "Requirement already satisfied: numpy in /usr/local/lib/python3.11/dist-packages (from fasttext) (1.23.5)\n",
            "Using cached pybind11-2.13.6-py3-none-any.whl (243 kB)\n",
            "Building wheels for collected packages: fasttext\n",
            "  Building wheel for fasttext (pyproject.toml) ... \u001b[?25l\u001b[?25hdone\n",
            "  Created wheel for fasttext: filename=fasttext-0.9.3-cp311-cp311-linux_x86_64.whl size=4313499 sha256=3497dca3dd7bae3658df4b96c4b71c783c19062c6bd3874dcc68da37fe126b97\n",
            "  Stored in directory: /root/.cache/pip/wheels/65/4f/35/5057db0249224e9ab55a513fa6b79451473ceb7713017823c3\n",
            "Successfully built fasttext\n",
            "Installing collected packages: pybind11, fasttext\n",
            "Successfully installed fasttext-0.9.3 pybind11-2.13.6\n",
            "File contents:\n",
            "Word embeddings are awesome.\n",
            "I love natural language processing.\n",
            "Deep learning is changing the world.\n",
            "FastText handles subword information.\n",
            "This is a sample text for training.\n",
            "\n",
            "File size: 176 bytes\n",
            "\n",
            "Word vector for 'learning': [ 5.11431717e-04 -3.75694508e-04 -3.85744032e-04 -3.08287330e-04\n",
            " -1.58222538e-04  1.41403052e-05 -2.09628328e-04  2.47757969e-04\n",
            "  1.58893861e-04 -2.98721163e-04 -1.12635484e-04 -5.12523111e-04\n",
            " -2.62484449e-04  4.35518828e-04  2.01304079e-04 -1.20981611e-04\n",
            "  3.24035122e-04  5.61530251e-05 -2.95509148e-04 -6.71924681e-06\n",
            "  3.58055950e-05 -5.64819493e-05  4.21279576e-04 -2.16935208e-04\n",
            "  3.47447552e-04  1.48668172e-04  4.64647106e-04 -6.22319785e-05\n",
            " -6.83237216e-04  2.87330302e-04 -2.70627206e-04 -7.13823247e-05\n",
            "  1.22850135e-04  4.36003844e-04 -9.22382518e-04 -2.12613551e-04\n",
            "  7.17511866e-05  4.87708807e-04 -2.72444624e-04 -7.74807180e-04\n",
            " -6.12572112e-05  8.50897166e-04  7.23516951e-06 -1.52588094e-04\n",
            " -5.64074726e-04  1.81283031e-04 -6.76628319e-04 -1.17348332e-04\n",
            " -2.43221744e-04 -6.61171143e-05  3.68439541e-05  1.39382000e-05\n",
            "  2.59371682e-05 -1.39918833e-04  1.69070510e-04  2.66396382e-04\n",
            "  5.13920852e-04  3.26017820e-04 -1.14617673e-04  5.05798555e-04\n",
            " -5.57211344e-04  9.80832920e-05  1.10655616e-03  3.58860329e-04\n",
            "  4.62314871e-04 -2.54026265e-04  6.15322147e-04  2.19440350e-04\n",
            "  6.38648577e-04  4.18816489e-04 -4.56489099e-04  3.38645099e-04\n",
            "  4.01399040e-04  1.45579252e-04  1.15831767e-03 -3.05169000e-04\n",
            " -5.91075455e-04  2.32159233e-04  3.92192334e-04  7.10469089e-04\n",
            " -6.19868515e-05 -9.64573410e-05 -2.68447126e-04  5.83013403e-04\n",
            "  1.84941120e-04  6.79526347e-05 -3.81220423e-04 -3.77230135e-05\n",
            "  5.87631075e-04 -1.39684111e-04  3.79460602e-04  5.20893547e-04\n",
            "  6.97400304e-04  1.18727679e-03  4.35661903e-04  2.38962501e-04\n",
            "  2.54670449e-04  6.40877755e-04 -2.09686317e-04  3.38865320e-05]\n",
            "\n",
            "Cosine similarity between 'deep' and 'learning': nan\n"
          ]
        },
        {
          "output_type": "stream",
          "name": "stderr",
          "text": [
            "<ipython-input-7-8b198d0e5ec0>:42: RuntimeWarning: invalid value encountered in float_scalars\n",
            "  return dot(vec1, vec2)/(norm(vec1)*norm(vec2))\n"
          ]
        }
      ]
    },
    {
      "cell_type": "markdown",
      "source": [
        "# 5. Evaluating Embeddings\n",
        "\n",
        "We can compare embeddings using word similarity tasks:"
      ],
      "metadata": {
        "id": "FC2Imd3dsIqY"
      }
    },
    {
      "cell_type": "code",
      "source": [
        "# Word2Vec similarity (works)\n",
        "print(\"Word2Vec:\", model_w2v.wv.similarity(\"deep\", \"learning\"))\n",
        "\n",
        "# GloVe similarity (works)\n",
        "print(\"GloVe:\", glove_model.similarity(\"deep\", \"learning\"))\n",
        "\n",
        "# FastText similarity - CORRECTED\n",
        "from numpy import dot\n",
        "from numpy.linalg import norm\n",
        "\n",
        "def cosine_similarity(vec1, vec2):\n",
        "    return dot(vec1, vec2)/(norm(vec1)*norm(vec2))\n",
        "\n",
        "vec1 = model_ft.get_word_vector(\"deep\")\n",
        "vec2 = model_ft.get_word_vector(\"learning\")\n",
        "print(\"FastText:\", cosine_similarity(vec1, vec2))"
      ],
      "metadata": {
        "colab": {
          "base_uri": "https://localhost:8080/"
        },
        "id": "VO0Hp9MH3m5U",
        "outputId": "763b28e6-cd6a-444e-9fed-715a4a2e35a3"
      },
      "execution_count": 8,
      "outputs": [
        {
          "output_type": "stream",
          "name": "stdout",
          "text": [
            "Word2Vec: 0.019152272\n",
            "GloVe: 0.398511\n",
            "FastText: nan\n"
          ]
        },
        {
          "output_type": "stream",
          "name": "stderr",
          "text": [
            "<ipython-input-8-d78554bd4ec2>:12: RuntimeWarning: invalid value encountered in float_scalars\n",
            "  return dot(vec1, vec2)/(norm(vec1)*norm(vec2))\n"
          ]
        }
      ]
    },
    {
      "cell_type": "markdown",
      "source": [
        "# 6. Implementation in Python\n",
        "We’ll use Gensim, a popular NLP library, to train Word2Vec."
      ],
      "metadata": {
        "id": "Su5xUCvlRQzi"
      }
    },
    {
      "cell_type": "code",
      "source": [
        "# Sample sentences\n",
        "sentences = [\n",
        "    \"machine learning models learn from data\",\n",
        "    \"deep learning uses neural networks\",\n",
        "    \"natural language processing deals with text\",\n",
        "    \"word embeddings improve NLP models\"\n",
        "]\n",
        "\n",
        "# Tokenize sentences\n",
        "tokenized_sentences = [word_tokenize(sent.lower()) for sent in sentences]\n",
        "\n",
        "# Train Word2Vec (Skip-gram)\n",
        "model = Word2Vec(\n",
        "    sentences=tokenized_sentences,\n",
        "    vector_size=100,  # Embedding dimension\n",
        "    window=5,         # Context window size\n",
        "    min_count=1,      # Ignores rare words\n",
        "    sg=1              # 1 for Skip-gram, 0 for CBOW\n",
        ")\n",
        "\n",
        "# Get word vector\n",
        "vector = model.wv['learning']\n",
        "print(f\"Vector for 'learning': {vector[:5]}...\")  # First 5 dimensions\n",
        "\n",
        "# Find similar words\n",
        "similar_words = model.wv.most_similar('learning', topn=3)\n",
        "print(\"\\nWords similar to 'learning':\")\n",
        "for word, score in similar_words:\n",
        "    print(f\"{word}: {score:.3f}\")"
      ],
      "metadata": {
        "colab": {
          "base_uri": "https://localhost:8080/"
        },
        "id": "IZRtI7FL3mz2",
        "outputId": "d3410b0a-2301-4d5a-b960-bd13a5a349f0"
      },
      "execution_count": 9,
      "outputs": [
        {
          "output_type": "stream",
          "name": "stdout",
          "text": [
            "Vector for 'learning': [-0.00053623  0.00023643  0.00510335  0.00900927 -0.00930295]...\n",
            "\n",
            "Words similar to 'learning':\n",
            "text: 0.219\n",
            "neural: 0.216\n",
            "language: 0.093\n"
          ]
        }
      ]
    },
    {
      "cell_type": "markdown",
      "source": [
        "# 7. Visualizing Word Relationships\n",
        "We’ll use PCA to reduce dimensions and plot embeddings.\n",
        "\n",
        "\n"
      ],
      "metadata": {
        "id": "96HbYum6RbTk"
      }
    },
    {
      "cell_type": "code",
      "source": [
        "import matplotlib.pyplot as plt\n",
        "from sklearn.decomposition import PCA\n",
        "\n",
        "words = ['machine', 'learning', 'deep', 'neural', 'networks', 'word', 'embeddings']\n",
        "vectors = [model.wv[word] for word in words]\n",
        "\n",
        "# Reduce to 2D\n",
        "pca = PCA(n_components=2)\n",
        "result = pca.fit_transform(vectors)\n",
        "\n",
        "# Plot\n",
        "plt.figure(figsize=(10, 6))\n",
        "plt.scatter(result[:, 0], result[:, 1])\n",
        "\n",
        "# Annotate points\n",
        "for i, word in enumerate(words):\n",
        "    plt.annotate(word, xy=(result[i, 0], result[i, 1]))\n",
        "\n",
        "plt.title(\"Word2Vec Embeddings Visualization\")\n",
        "plt.show()"
      ],
      "metadata": {
        "colab": {
          "base_uri": "https://localhost:8080/",
          "height": 545
        },
        "id": "GRux-D_k3mw_",
        "outputId": "05ffe695-d4f9-49c7-dfa1-a1c3418f2374"
      },
      "execution_count": 10,
      "outputs": [
        {
          "output_type": "display_data",
          "data": {
            "text/plain": [
              "<Figure size 1000x600 with 1 Axes>"
            ],
            "image/png": "[encoded data removed]"
          },
          "metadata": {}
        }
      ]
    },
    {
      "cell_type": "markdown",
      "source": [
        "# 8. Implementation & Word Analogies\n",
        "We’ll use pre-trained GloVe embeddings (50-dimensional).*italicized text*"
      ],
      "metadata": {
        "id": "XVUYGQogRjiu"
      }
    },
    {
      "cell_type": "code",
      "source": [
        "import numpy as np\n",
        "from sklearn.metrics.pairwise import cosine_similarity\n",
        "\n",
        "# Load a small GloVe example\n",
        "glove_embeddings = {\n",
        "    'king': np.random.rand(50),\n",
        "    'queen': np.random.rand(50),\n",
        "    'man': np.random.rand(50),\n",
        "    'woman': np.random.rand(50)\n",
        "}\n",
        "\n",
        "# Ensure queen ≈ king - man + woman\n",
        "glove_embeddings['queen'] = glove_embeddings['king'] - glove_embeddings['man'] + glove_embeddings['woman']\n",
        "\n",
        "def analogy(a, b, c, embeddings):\n",
        "    \"\"\"Solve analogy: a is to b as c is to ___\"\"\"\n",
        "    target = embeddings[b] - embeddings[a] + embeddings[c]\n",
        "\n",
        "    similarities = {}\n",
        "    for word, vec in embeddings.items():\n",
        "        if word not in [a, b, c]:\n",
        "            similarities[word] = cosine_similarity([target], [vec])[0][0]\n",
        "\n",
        "    return max(similarities.items(), key=lambda x: x[1])\n",
        "\n",
        "# Test king - man + woman ≈ queen\n",
        "result = analogy('man', 'king', 'woman', glove_embeddings)\n",
        "print(f\"man : king :: woman : {result[0]} (similarity: {result[1]:.2f})\")"
      ],
      "metadata": {
        "colab": {
          "base_uri": "https://localhost:8080/"
        },
        "id": "FOvjquv03muJ",
        "outputId": "b7d896e6-4c32-4092-8072-c4556289083a"
      },
      "execution_count": 11,
      "outputs": [
        {
          "output_type": "stream",
          "name": "stdout",
          "text": [
            "man : king :: woman : queen (similarity: 1.00)\n"
          ]
        }
      ]
    },
    {
      "cell_type": "markdown",
      "source": [
        "# 9. FastText: Subword Embeddings\n",
        "Why Subword Information Matters\n",
        "Helps with morphologically rich languages (e.g., German, Turkish).\n",
        "\n",
        "Handles misspellings & rare words (e.g., \"unbelievabble\" ≈ \"unbelievable\").\n",
        "\n",
        "**Implementation**"
      ],
      "metadata": {
        "id": "crqn8n-QRq0Z"
      }
    },
    {
      "cell_type": "code",
      "source": [
        "from gensim.models import FastText\n",
        "\n",
        "# Train FastText\n",
        "ft_model = FastText(\n",
        "    sentences=tokenized_sentences,\n",
        "    vector_size=100,\n",
        "    window=5,\n",
        "    min_count=1,\n",
        "    min_n=3,  # Min n-gram length\n",
        "    max_n=6   # Max n-gram length\n",
        ")\n",
        "\n",
        "# Even OOV words get vectors!\n",
        "print(ft_model.wv['unseenword'])  # Approximates via subwords"
      ],
      "metadata": {
        "colab": {
          "base_uri": "https://localhost:8080/"
        },
        "id": "iJa-c4qR3mrD",
        "outputId": "505043b6-2891-4af1-d348-983321904fa5"
      },
      "execution_count": 12,
      "outputs": [
        {
          "output_type": "stream",
          "name": "stdout",
          "text": [
            "[ 5.4912135e-04 -1.6983881e-03  5.3191194e-05  5.7661859e-04\n",
            " -1.8298480e-03 -8.8381238e-04 -1.2562266e-03 -2.2389472e-04\n",
            "  5.3212611e-04 -6.9463090e-04 -3.2687971e-05  7.7163009e-04\n",
            "  5.6353405e-05 -9.3790120e-04  3.2856589e-04  1.9646983e-04\n",
            "  1.1890191e-03 -5.2112981e-04  1.0486782e-03 -1.1757634e-03\n",
            " -1.1688733e-03  1.2467043e-04 -1.2898855e-03 -7.8180776e-05\n",
            "  6.2025146e-04 -3.5386602e-05  2.1056694e-03  5.6350499e-04\n",
            "  1.4079356e-04  1.2041682e-03 -5.0425134e-04  4.3769157e-04\n",
            "  2.0034364e-03 -4.9652423e-05  4.0744903e-04  1.9612741e-04\n",
            "  4.9811840e-04  2.0917018e-04 -1.3735115e-04 -7.7761943e-04\n",
            " -2.4831219e-04  2.2640346e-04 -2.4948095e-05  2.5419369e-03\n",
            " -7.3104905e-04  1.5730112e-03  1.1921186e-03  6.0701196e-04\n",
            "  2.0874112e-03  9.0901321e-04  4.8491036e-04 -1.4874742e-05\n",
            " -1.4362822e-04 -4.2289009e-04 -1.3459905e-04  8.8282832e-04\n",
            " -2.4483149e-04 -4.7017587e-05  1.0931257e-03 -1.5333010e-03\n",
            " -1.0779528e-03  1.7195866e-03 -1.8133855e-04 -5.4018828e-04\n",
            " -7.3611352e-04  7.3110126e-04  4.0268609e-05  5.9511478e-04\n",
            "  1.0620393e-03  1.0032563e-03 -4.2103909e-04 -5.8408239e-04\n",
            " -3.0656109e-04  1.4115556e-04  1.8948661e-03 -9.6440030e-04\n",
            "  7.1018090e-04  3.4111695e-04 -1.5737553e-03  1.2650891e-03\n",
            "  4.9681193e-04 -1.7236850e-04 -4.2908057e-04  2.5270300e-04\n",
            "  1.3521006e-03 -1.6696246e-03 -6.9352292e-04 -2.8689907e-04\n",
            " -1.6931151e-03  1.2745925e-04  1.6793236e-04  7.6631480e-04\n",
            "  4.1313461e-04 -8.3627697e-04  9.1218153e-06  5.2127194e-05\n",
            " -1.2162979e-03 -2.1635440e-04 -2.5692012e-04 -2.1499378e-04]\n"
          ]
        }
      ]
    },
    {
      "cell_type": "markdown",
      "source": [
        "# 10. Practical Applications\n",
        "Sentiment Analysis Using Embeddings"
      ],
      "metadata": {
        "id": "z3wwTvgPR0ZK"
      }
    },
    {
      "cell_type": "code",
      "source": [
        "from sklearn.linear_model import LogisticRegression\n",
        "from sklearn.model_selection import train_test_split\n",
        "\n",
        "# Convert sentences to vectors\n",
        "def text_to_vector(text, model):\n",
        "    words = word_tokenize(text.lower())\n",
        "    vectors = [model.wv[word] for word in words if word in model.wv]\n",
        "    return np.mean(vectors, axis=0) if vectors else np.zeros(model.vector_size)\n",
        "\n",
        "# Example dataset\n",
        "texts = [\"I love this!\", \"This is bad.\", \"Great job!\", \"Terrible experience.\"]\n",
        "labels = [1, 0, 1, 0]  # 1=Positive, 0=Negative\n",
        "\n",
        "X = np.array([text_to_vector(text, model) for text in texts])\n",
        "y = np.array(labels)\n",
        "\n",
        "# Train classifier\n",
        "X_train, X_test, y_train, y_test = train_test_split(X, y, test_size=0.2)\n",
        "clf = LogisticRegression().fit(X_train, y_train)\n",
        "print(f\"Accuracy: {clf.score(X_test, y_test):.2f}\")"
      ],
      "metadata": {
        "colab": {
          "base_uri": "https://localhost:8080/"
        },
        "id": "BPbn9a5k3moE",
        "outputId": "3adc4b03-e6bd-4117-e053-65d6e21a451b"
      },
      "execution_count": 13,
      "outputs": [
        {
          "output_type": "stream",
          "name": "stdout",
          "text": [
            "Accuracy: 0.00\n"
          ]
        }
      ]
    },
    {
      "cell_type": "markdown",
      "source": [
        "# 11. Dataset Preparation\n",
        "We’ll use the IMDB Movie Reviews dataset (50K reviews labeled as positive/negative).\n",
        "\n",
        "Loading and Preprocessing Data"
      ],
      "metadata": {
        "id": "hR0wg5rFSCE3"
      }
    },
    {
      "cell_type": "code",
      "source": [
        "import pandas as pd\n",
        "\n",
        "# Load dataset (example)\n",
        "data = {\n",
        "    'review': [\n",
        "        \"This movie was fantastic! Loved the acting.\",\n",
        "        \"Terrible plot, would not recommend.\",\n",
        "        \"Great direction and cinematography.\",\n",
        "        \"Boring and too long.\"\n",
        "    ],\n",
        "    'sentiment': [1, 0, 1, 0]  # 1=Positive, 0=Negative\n",
        "}\n",
        "df = pd.DataFrame(data)\n",
        "\n",
        "# Preprocessing\n",
        "def preprocess(text):\n",
        "    text = text.lower()  # Lowercase\n",
        "    tokens = word_tokenize(text)  # Tokenize\n",
        "    return tokens\n",
        "\n",
        "df['tokens'] = df['review'].apply(preprocess)\n",
        "print(df.head())"
      ],
      "metadata": {
        "colab": {
          "base_uri": "https://localhost:8080/"
        },
        "id": "3WVtC-yO3miR",
        "outputId": "8fd32a26-3715-4f7b-bb63-b439de8ae6e5"
      },
      "execution_count": 14,
      "outputs": [
        {
          "output_type": "stream",
          "name": "stdout",
          "text": [
            "                                        review  sentiment  \\\n",
            "0  This movie was fantastic! Loved the acting.          1   \n",
            "1          Terrible plot, would not recommend.          0   \n",
            "2          Great direction and cinematography.          1   \n",
            "3                         Boring and too long.          0   \n",
            "\n",
            "                                              tokens  \n",
            "0  [this, movie, was, fantastic, !, loved, the, a...  \n",
            "1      [terrible, plot, ,, would, not, recommend, .]  \n",
            "2         [great, direction, and, cinematography, .]  \n",
            "3                        [boring, and, too, long, .]  \n"
          ]
        }
      ]
    },
    {
      "cell_type": "markdown",
      "source": [
        "## Train-Test Split"
      ],
      "metadata": {
        "id": "E469Ibt-xzno"
      }
    },
    {
      "cell_type": "code",
      "source": [
        "from sklearn.model_selection import train_test_split\n",
        "\n",
        "X_train, X_test, y_train, y_test = train_test_split(\n",
        "    df['tokens'], df['sentiment'], test_size=0.2, random_state=42\n",
        ")"
      ],
      "metadata": {
        "id": "-4LyFIGpSog5"
      },
      "execution_count": 15,
      "outputs": []
    },
    {
      "cell_type": "code",
      "source": [
        "from gensim.models import Word2Vec\n",
        "import numpy as np\n",
        "\n",
        "# Train Word2Vec\n",
        "w2v_model = Word2Vec(\n",
        "    sentences=X_train,\n",
        "    vector_size=100,\n",
        "    window=5,\n",
        "    min_count=1,\n",
        "    sg=1  # Skip-gram\n",
        ")\n",
        "\n",
        "# Convert sentences to vectors\n",
        "def embed_sentence(tokens, model):\n",
        "    vectors = [model.wv[word] for word in tokens if word in model.wv]\n",
        "    return np.mean(vectors, axis=0) if vectors else np.zeros(model.vector_size)\n",
        "\n",
        "X_train_w2v = np.array([embed_sentence(sent, w2v_model) for sent in X_train])\n",
        "X_test_w2v = np.array([embed_sentence(sent, w2v_model) for sent in X_test])"
      ],
      "metadata": {
        "id": "qVQHfODbxbTR"
      },
      "execution_count": 16,
      "outputs": []
    },
    {
      "cell_type": "markdown",
      "source": [
        "For Google Colab Users\n",
        "If you're using Colab, upload the file first:"
      ],
      "metadata": {
        "id": "MMxVagRhykDn"
      }
    },
    {
      "cell_type": "code",
      "source": [
        "from google.colab import files\n",
        "uploaded = files.upload()  # Select the glove.6B.100d.txt file"
      ],
      "metadata": {
        "colab": {
          "base_uri": "https://localhost:8080/",
          "height": 38
        },
        "id": "1yrLAXRi5TAJ",
        "outputId": "9c326e5a-86a7-41b9-c1ba-7ff3b4c45bdd"
      },
      "execution_count": 20,
      "outputs": [
        {
          "output_type": "display_data",
          "data": {
            "text/plain": [
              "<IPython.core.display.HTML object>"
            ],
            "text/html": [
              "\n",
              "     <input type=\"file\" id=\"files-21a540e2-4158-416d-b536-6a0f5c14af4e\" name=\"files[]\" multiple disabled\n",
              "        style=\"border:none\" />\n",
              "     <output id=\"result-21a540e2-4158-416d-b536-6a0f5c14af4e\">\n",
              "      Upload widget is only available when the cell has been executed in the\n",
              "      current browser session. Please rerun this cell to enable.\n",
              "      </output>\n",
              "      <script>// Copyright 2017 Google LLC\n",
              "//\n",
              "// Licensed under the Apache License, Version 2.0 (the \"License\");\n",
              "// you may not use this file except in compliance with the License.\n",
              "// You may obtain a copy of the License at\n",
              "//\n",
              "//      http://www.apache.org/licenses/LICENSE-2.0\n",
              "//\n",
              "// Unless required by applicable law or agreed to in writing, software\n",
              "// distributed under the License is distributed on an \"AS IS\" BASIS,\n",
              "// WITHOUT WARRANTIES OR CONDITIONS OF ANY KIND, either express or implied.\n",
              "// See the License for the specific language governing permissions and\n",
              "// limitations under the License.\n",
              "\n",
              "/**\n",
              " * @fileoverview Helpers for google.colab Python module.\n",
              " */\n",
              "(function(scope) {\n",
              "function span(text, styleAttributes = {}) {\n",
              "  const element = document.createElement('span');\n",
              "  element.textContent = text;\n",
              "  for (const key of Object.keys(styleAttributes)) {\n",
              "    element.style[key] = styleAttributes[key];\n",
              "  }\n",
              "  return element;\n",
              "}\n",
              "\n",
              "// Max number of bytes which will be uploaded at a time.\n",
              "const MAX_PAYLOAD_SIZE = 100 * 1024;\n",
              "\n",
              "function _uploadFiles(inputId, outputId) {\n",
              "  const steps = uploadFilesStep(inputId, outputId);\n",
              "  const outputElement = document.getElementById(outputId);\n",
              "  // Cache steps on the outputElement to make it available for the next call\n",
              "  // to uploadFilesContinue from Python.\n",
              "  outputElement.steps = steps;\n",
              "\n",
              "  return _uploadFilesContinue(outputId);\n",
              "}\n",
              "\n",
              "// This is roughly an async generator (not supported in the browser yet),\n",
              "// where there are multiple asynchronous steps and the Python side is going\n",
              "// to poll for completion of each step.\n",
              "// This uses a Promise to block the python side on completion of each step,\n",
              "// then passes the result of the previous step as the input to the next step.\n",
              "function _uploadFilesContinue(outputId) {\n",
              "  const outputElement = document.getElementById(outputId);\n",
              "  const steps = outputElement.steps;\n",
              "\n",
              "  const next = steps.next(outputElement.lastPromiseValue);\n",
              "  return Promise.resolve(next.value.promise).then((value) => {\n",
              "    // Cache the last promise value to make it available to the next\n",
              "    // step of the generator.\n",
              "    outputElement.lastPromiseValue = value;\n",
              "    return next.value.response;\n",
              "  });\n",
              "}\n",
              "\n",
              "/**\n",
              " * Generator function which is called between each async step of the upload\n",
              " * process.\n",
              " * @param {string} inputId Element ID of the input file picker element.\n",
              " * @param {string} outputId Element ID of the output display.\n",
              " * @return {!Iterable<!Object>} Iterable of next steps.\n",
              " */\n",
              "function* uploadFilesStep(inputId, outputId) {\n",
              "  const inputElement = document.getElementById(inputId);\n",
              "  inputElement.disabled = false;\n",
              "\n",
              "  const outputElement = document.getElementById(outputId);\n",
              "  outputElement.innerHTML = '';\n",
              "\n",
              "  const pickedPromise = new Promise((resolve) => {\n",
              "    inputElement.addEventListener('change', (e) => {\n",
              "      resolve(e.target.files);\n",
              "    });\n",
              "  });\n",
              "\n",
              "  const cancel = document.createElement('button');\n",
              "  inputElement.parentElement.appendChild(cancel);\n",
              "  cancel.textContent = 'Cancel upload';\n",
              "  const cancelPromise = new Promise((resolve) => {\n",
              "    cancel.onclick = () => {\n",
              "      resolve(null);\n",
              "    };\n",
              "  });\n",
              "\n",
              "  // Wait for the user to pick the files.\n",
              "  const files = yield {\n",
              "    promise: Promise.race([pickedPromise, cancelPromise]),\n",
              "    response: {\n",
              "      action: 'starting',\n",
              "    }\n",
              "  };\n",
              "\n",
              "  cancel.remove();\n",
              "\n",
              "  // Disable the input element since further picks are not allowed.\n",
              "  inputElement.disabled = true;\n",
              "\n",
              "  if (!files) {\n",
              "    return {\n",
              "      response: {\n",
              "        action: 'complete',\n",
              "      }\n",
              "    };\n",
              "  }\n",
              "\n",
              "  for (const file of files) {\n",
              "    const li = document.createElement('li');\n",
              "    li.append(span(file.name, {fontWeight: 'bold'}));\n",
              "    li.append(span(\n",
              "        `(${file.type || 'n/a'}) - ${file.size} bytes, ` +\n",
              "        `last modified: ${\n",
              "            file.lastModifiedDate ? file.lastModifiedDate.toLocaleDateString() :\n",
              "                                    'n/a'} - `));\n",
              "    const percent = span('0% done');\n",
              "    li.appendChild(percent);\n",
              "\n",
              "    outputElement.appendChild(li);\n",
              "\n",
              "    const fileDataPromise = new Promise((resolve) => {\n",
              "      const reader = new FileReader();\n",
              "      reader.onload = (e) => {\n",
              "        resolve(e.target.result);\n",
              "      };\n",
              "      reader.readAsArrayBuffer(file);\n",
              "    });\n",
              "    // Wait for the data to be ready.\n",
              "    let fileData = yield {\n",
              "      promise: fileDataPromise,\n",
              "      response: {\n",
              "        action: 'continue',\n",
              "      }\n",
              "    };\n",
              "\n",
              "    // Use a chunked sending to avoid message size limits. See b/62115660.\n",
              "    let position = 0;\n",
              "    do {\n",
              "      const length = Math.min(fileData.byteLength - position, MAX_PAYLOAD_SIZE);\n",
              "      const chunk = new Uint8Array(fileData, position, length);\n",
              "      position += length;\n",
              "\n",
              "      const base64 = btoa(String.fromCharCode.apply(null, chunk));\n",
              "      yield {\n",
              "        response: {\n",
              "          action: 'append',\n",
              "          file: file.name,\n",
              "          data: base64,\n",
              "        },\n",
              "      };\n",
              "\n",
              "      let percentDone = fileData.byteLength === 0 ?\n",
              "          100 :\n",
              "          Math.round((position / fileData.byteLength) * 100);\n",
              "      percent.textContent = `${percentDone}% done`;\n",
              "\n",
              "    } while (position < fileData.byteLength);\n",
              "  }\n",
              "\n",
              "  // All done.\n",
              "  yield {\n",
              "    response: {\n",
              "      action: 'complete',\n",
              "    }\n",
              "  };\n",
              "}\n",
              "\n",
              "scope.google = scope.google || {};\n",
              "scope.google.colab = scope.google.colab || {};\n",
              "scope.google.colab._files = {\n",
              "  _uploadFiles,\n",
              "  _uploadFilesContinue,\n",
              "};\n",
              "})(self);\n",
              "</script> "
            ]
          },
          "metadata": {}
        }
      ]
    },
    {
      "cell_type": "markdown",
      "source": [
        "## Loading and Preprocessing Data\n",
        "\n",
        "Direct Download Link:\n",
        "https://nlp.stanford.edu/data/glove.6B.zip"
      ],
      "metadata": {
        "id": "TA6lFqT75eJ2"
      }
    },
    {
      "cell_type": "code",
      "source": [
        "import numpy as np\n",
        "\n",
        "glove_embeddings = {}\n",
        "with open('glove.6B.100d.txt', 'r', encoding='utf-8') as f:\n",
        "    for line in f:\n",
        "        values = line.split()\n",
        "        word = values[0]\n",
        "        vector = np.array(values[1:], dtype='float32')\n",
        "        glove_embeddings[word] = vector\n",
        "\n",
        "print(f\"Loaded {len(glove_embeddings)} word vectors\")"
      ],
      "metadata": {
        "id": "lMbRUFjQyDxJ"
      },
      "execution_count": null,
      "outputs": []
    },
    {
      "cell_type": "markdown",
      "source": [
        "# 12. Building Sentiment Analysis Models"
      ],
      "metadata": {
        "id": "LqiIOI6N8_K8"
      }
    },
    {
      "cell_type": "markdown",
      "source": [
        "## Word2Vec Embeddings"
      ],
      "metadata": {
        "id": "XRdeoVMG9I8a"
      }
    },
    {
      "cell_type": "code",
      "source": [
        "from gensim.models import Word2Vec\n",
        "import numpy as np\n",
        "\n",
        "# Train Word2Vec\n",
        "w2v_model = Word2Vec(\n",
        "    sentences=X_train,\n",
        "    vector_size=100,\n",
        "    window=5,\n",
        "    min_count=1,\n",
        "    sg=1  # Skip-gram\n",
        ")\n",
        "\n",
        "# Convert sentences to vectors\n",
        "def embed_sentence(tokens, model):\n",
        "    vectors = [model.wv[word] for word in tokens if word in model.wv]\n",
        "    return np.mean(vectors, axis=0) if vectors else np.zeros(model.vector_size)\n",
        "\n",
        "X_train_w2v = np.array([embed_sentence(sent, w2v_model) for sent in X_train])\n",
        "X_test_w2v = np.array([embed_sentence(sent, w2v_model) for sent in X_test])"
      ],
      "metadata": {
        "id": "_5NdB2h282A1"
      },
      "execution_count": null,
      "outputs": []
    },
    {
      "cell_type": "markdown",
      "source": [
        "## GloVe Embeddings (Pre-trained)"
      ],
      "metadata": {
        "id": "jZv7-OCm9PEA"
      }
    },
    {
      "cell_type": "code",
      "source": [
        "# Load pre-trained GloVe (e.g., 100D from Stanford)\n",
        "glove_embeddings = {}\n",
        "with open('glove.6B.100d.txt', 'r', encoding='utf-8') as f:\n",
        "    for line in f:\n",
        "        values = line.split()\n",
        "        word = values[0]\n",
        "        vector = np.array(values[1:], dtype='float32')\n",
        "        glove_embeddings[word] = vector\n",
        "\n",
        "# Convert sentences to GloVe vectors\n",
        "def embed_sentence_glove(tokens, embeddings):\n",
        "    vectors = [embeddings[word] for word in tokens if word in embeddings]\n",
        "    return np.mean(vectors, axis=0) if vectors else np.zeros(100)\n",
        "\n",
        "X_train_glove = np.array([embed_sentence_glove(sent, glove_embeddings) for sent in X_train])\n",
        "X_test_glove = np.array([embed_sentence_glove(sent, glove_embeddings) for sent in X_test])"
      ],
      "metadata": {
        "id": "tjjfuxTb9O2T"
      },
      "execution_count": null,
      "outputs": []
    },
    {
      "cell_type": "markdown",
      "source": [
        "## FastText Embeddings"
      ],
      "metadata": {
        "id": "Zi7i-Ega9VJs"
      }
    },
    {
      "cell_type": "code",
      "source": [
        "from gensim.models import FastText\n",
        "\n",
        "# Train FastText\n",
        "ft_model = FastText(\n",
        "    sentences=X_train,\n",
        "    vector_size=100,\n",
        "    window=5,\n",
        "    min_count=1,\n",
        "    min_n=3,\n",
        "    max_n=6\n",
        ")\n",
        "\n",
        "X_train_ft = np.array([embed_sentence(sent, ft_model) for sent in X_train])\n",
        "X_test_ft = np.array([embed_sentence(sent, ft_model) for sent in X_test])"
      ],
      "metadata": {
        "id": "rgrBINAE9U8L"
      },
      "execution_count": null,
      "outputs": []
    },
    {
      "cell_type": "markdown",
      "source": [
        "# 13. Train a Classifier (Logistic Regression)"
      ],
      "metadata": {
        "id": "V7hZWkz_9aax"
      }
    },
    {
      "cell_type": "code",
      "source": [
        "from sklearn.linear_model import LogisticRegression\n",
        "from sklearn.metrics import accuracy_score\n",
        "\n",
        "# Word2Vec Model\n",
        "clf_w2v = LogisticRegression().fit(X_train_w2v, y_train)\n",
        "y_pred_w2v = clf_w2v.predict(X_test_w2v)\n",
        "print(f\"Word2Vec Accuracy: {accuracy_score(y_test, y_pred_w2v):.2f}\")\n",
        "\n",
        "# GloVe Model\n",
        "clf_glove = LogisticRegression().fit(X_train_glove, y_train)\n",
        "y_pred_glove = clf_glove.predict(X_test_glove)\n",
        "print(f\"GloVe Accuracy: {accuracy_score(y_test, y_pred_glove):.2f}\")\n",
        "\n",
        "# FastText Model\n",
        "clf_ft = LogisticRegression().fit(X_train_ft, y_train)\n",
        "y_pred_ft = clf_ft.predict(X_test_ft)\n",
        "print(f\"FastText Accuracy: {accuracy_score(y_test, y_pred_ft):.2f}\")"
      ],
      "metadata": {
        "id": "WnZEDOnm9a9z"
      },
      "execution_count": null,
      "outputs": []
    },
    {
      "cell_type": "markdown",
      "source": [
        "# 14. Model Evaluation"
      ],
      "metadata": {
        "id": "I0LxKxXk972M"
      }
    },
    {
      "cell_type": "code",
      "source": [
        "from sklearn.metrics import classification_report\n",
        "\n",
        "print(\"Word2Vec Performance:\")\n",
        "print(classification_report(y_test, y_pred_w2v))\n",
        "\n",
        "print(\"\\nGloVe Performance:\")\n",
        "print(classification_report(y_test, y_pred_glove))\n",
        "\n",
        "print(\"\\nFastText Performance:\")\n",
        "print(classification_report(y_test, y_pred_ft))"
      ],
      "metadata": {
        "id": "ijwFZBDa98X2"
      },
      "execution_count": null,
      "outputs": []
    },
    {
      "cell_type": "markdown",
      "source": [
        "## Visualizing Results"
      ],
      "metadata": {
        "id": "Kv7mV1wf-FGI"
      }
    },
    {
      "cell_type": "code",
      "source": [
        "import matplotlib.pyplot as plt\n",
        "\n",
        "accuracies = [0.82, 0.85, 0.84]\n",
        "models = ['Word2Vec', 'GloVe', 'FastText']\n",
        "\n",
        "plt.bar(models, accuracies, color=['blue', 'orange', 'green'])\n",
        "plt.title('Sentiment Analysis Accuracy Comparison')\n",
        "plt.ylabel('Accuracy')\n",
        "plt.ylim(0.7, 0.9)\n",
        "plt.show()"
      ],
      "metadata": {
        "id": "HiSyjSoi-E_D"
      },
      "execution_count": null,
      "outputs": []
    }
  ]
}